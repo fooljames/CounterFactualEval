{
 "cells": [
  {
   "cell_type": "code",
   "execution_count": 1,
   "metadata": {},
   "outputs": [],
   "source": [
    "import numpy as np\n",
    "import random\n",
    "import matplotlib.pyplot as plt\n",
    "import matplotlib.mlab   as mlab\n",
    "\n",
    "from matplotlib import rc\n",
    "from sklearn.metrics import pairwise_distances\n",
    "\n",
    "from scipy.spatial.distance import cdist\n",
    "from scipy.special import expit\n",
    "from scipy.stats import bernoulli\n",
    "from numpy.polynomial.polynomial import polyval\n",
    "\n",
    "from scipy.optimize import minimize\n",
    "from scipy.stats import norm, laplace\n",
    "\n",
    "rc('font', **{'family': 'serif', 'serif': ['Modern Computer']})\n",
    "rc('text', usetex=True)\n",
    "\n",
    "%matplotlib inline"
   ]
  },
  {
   "cell_type": "markdown",
   "metadata": {},
   "source": [
    "## Data Generation"
   ]
  },
  {
   "cell_type": "code",
   "execution_count": 2,
   "metadata": {},
   "outputs": [],
   "source": [
    "# set the random seed\n",
    "random.seed(0)"
   ]
  },
  {
   "cell_type": "code",
   "execution_count": 3,
   "metadata": {},
   "outputs": [],
   "source": [
    "# generate data from the marginal distributions P(X_0) and P(X_1)\n",
    "ns = 200\n",
    "d  = 5\n",
    "X0 = np.random.randn(ns,d)\n",
    "X1 = np.random.laplace(0,0.1,size=(ns,d))"
   ]
  },
  {
   "cell_type": "code",
   "execution_count": 4,
   "metadata": {},
   "outputs": [],
   "source": [
    "# generate Y_0 and Y_1 from the conditional models\n",
    "b = 0.5\n",
    "beta_vec  = np.array([0.1,0.2,0.3,0.4,0.5])\n",
    "Y0 = np.dot(beta_vec,X0.T) + 0.1*np.random.randn(X0.shape[0])      # potential outcome Y_0\n",
    "Y1 = np.dot(beta_vec,X1.T) + b + 0.1*np.random.randn(X1.shape[0])  # potential outcome Y_1"
   ]
  },
  {
   "cell_type": "code",
   "execution_count": 5,
   "metadata": {},
   "outputs": [
    {
     "name": "stderr",
     "output_type": "stream",
     "text": [
      "/usr/local/lib/python3.6/site-packages/matplotlib/font_manager.py:1328: UserWarning: findfont: Font family ['serif'] not found. Falling back to DejaVu Sans\n",
      "  (prop.get_family(), self.defaultFamily[fontext]))\n",
      "/usr/local/lib/python3.6/site-packages/matplotlib/font_manager.py:1328: UserWarning: findfont: Font family ['serif'] not found. Falling back to DejaVu Sans\n",
      "  (prop.get_family(), self.defaultFamily[fontext]))\n",
      "/usr/local/lib/python3.6/site-packages/matplotlib/font_manager.py:1328: UserWarning: findfont: Font family ['serif'] not found. Falling back to DejaVu Sans\n",
      "  (prop.get_family(), self.defaultFamily[fontext]))\n",
      "/usr/local/lib/python3.6/site-packages/matplotlib/font_manager.py:1328: UserWarning: findfont: Font family ['serif'] not found. Falling back to DejaVu Sans\n",
      "  (prop.get_family(), self.defaultFamily[fontext]))\n",
      "/usr/local/lib/python3.6/site-packages/matplotlib/font_manager.py:1328: UserWarning: findfont: Font family ['serif'] not found. Falling back to DejaVu Sans\n",
      "  (prop.get_family(), self.defaultFamily[fontext]))\n"
     ]
    },
    {
     "data": {
      "image/png": "[encoded data removed]",
      "text/plain": [
       "<Figure size 432x288 with 1 Axes>"
      ]
     },
     "metadata": {},
     "output_type": "display_data"
    }
   ],
   "source": [
    "# plot the true functions and the samples\n",
    "fig, ax = plt.subplots(1,1)\n",
    "\n",
    "ax.plot(Y0,linewidth=1,linestyle=\"None\",marker='o',color='red',label=\"Y_0\")\n",
    "ax.plot(Y1,linewidth=1,linestyle=\"None\",marker='x',color='blue',label=\"Y_1\")\n",
    "ax.legend([\"$Y_0$\",\"$Y_1$\"])\n",
    "ax.set_title(r\"Scenario I\")\n",
    "ax.set_ylabel(r\"Y\")\n",
    "fig.tight_layout()"
   ]
  },
  {
   "cell_type": "code",
   "execution_count": 6,
   "metadata": {},
   "outputs": [],
   "source": [
    "# save the figure\n",
    "fig.savefig('cf_data.pdf',dpi=100)"
   ]
  },
  {
   "cell_type": "code",
   "execution_count": 7,
   "metadata": {},
   "outputs": [
    {
     "name": "stderr",
     "output_type": "stream",
     "text": [
      "/usr/local/lib/python3.6/site-packages/matplotlib/axes/_axes.py:6462: UserWarning: The 'normed' kwarg is deprecated, and has been replaced by the 'density' kwarg.\n",
      "  warnings.warn(\"The 'normed' kwarg is deprecated, and has been \"\n",
      "/usr/local/lib/python3.6/site-packages/ipykernel_launcher.py:4: MatplotlibDeprecationWarning: scipy.stats.norm.pdf\n",
      "  after removing the cwd from sys.path.\n",
      "/usr/local/lib/python3.6/site-packages/ipykernel_launcher.py:8: MatplotlibDeprecationWarning: scipy.stats.norm.pdf\n",
      "  \n",
      "/usr/local/lib/python3.6/site-packages/matplotlib/font_manager.py:1328: UserWarning: findfont: Font family ['serif'] not found. Falling back to DejaVu Sans\n",
      "  (prop.get_family(), self.defaultFamily[fontext]))\n"
     ]
    },
    {
     "data": {
      "image/png": "[encoded data removed]",
      "text/plain": [
       "<Figure size 432x288 with 1 Axes>"
      ]
     },
     "metadata": {},
     "output_type": "display_data"
    }
   ],
   "source": [
    "# plot the histograms\n",
    "fig, ax = plt.subplots(1,1)\n",
    "n, bins, patches = ax.hist(Y0,30,normed=1,facecolor='green', alpha=0.6, label=\"$Y_0$\")\n",
    "y0 = mlab.normpdf(bins, 0, 1)\n",
    "#l = plt.plot(bins, y0, 'r--', linewidth=2,label='Y0')\n",
    "\n",
    "n, bins, patches = ax.hist(Y1,30,normed=1,facecolor='blue', alpha=0.6,label=\"$Y_1$\")\n",
    "y1 = mlab.normpdf(bins, 2, 1)\n",
    "#l = plt.plot(bins, y1, 'm--', linewidth=2,label='Y1')\n",
    "\n",
    "ax.legend()\n",
    "ax.set_title(r\"Scenario I\")\n",
    "ax.set_ylabel(r\"Probability\")\n",
    "ax.set_xlabel(r\"Y\")\n",
    "ax.grid(True)\n",
    "\n",
    "fig.tight_layout();"
   ]
  },
  {
   "cell_type": "code",
   "execution_count": 8,
   "metadata": {},
   "outputs": [],
   "source": [
    "# save the figure\n",
    "fig.savefig('cf_data_hist.pdf',dpi=100)"
   ]
  },
  {
   "cell_type": "markdown",
   "metadata": {},
   "source": [
    "## Construct Counterfactual Mean Embedding"
   ]
  },
  {
   "cell_type": "code",
   "execution_count": 9,
   "metadata": {},
   "outputs": [],
   "source": [
    "# kernel function\n",
    "def gauss_rbf(X1,X2,sigma=1):\n",
    "    \"\"\"\n",
    "    The Gaussian RBF kernel function.\n",
    "    X1 : the first nxd input data matrix. Each row corresponds to data point\n",
    "    X2 : the second mxd input data matrix. Each row corresponds to the data point\n",
    "    \"\"\"\n",
    "    \n",
    "    K = np.exp(-np.divide(cdist(X1,X2,'sqeuclidean'),2*sigma))\n",
    "    \n",
    "    return K\n",
    "###"
   ]
  },
  {
   "cell_type": "code",
   "execution_count": 10,
   "metadata": {},
   "outputs": [],
   "source": [
    "# Now, given the generated data, construct the estimate of the counterfactual distributions\n",
    "\n",
    "reg_param = 1e-5\n",
    "\n",
    "sg = np.median(pairwise_distances(X0, X1, metric='euclidean'))**2\n",
    "\n",
    "K1 = gauss_rbf(X1,X1,sg)\n",
    "K2 = gauss_rbf(X1,X0,sg)\n",
    "\n",
    "# beta vector\n",
    "b = np.dot(np.dot(np.linalg.inv(K1 + ns*reg_param*np.eye(ns)),K2),np.ones((ns,1))/ns)"
   ]
  },
  {
   "cell_type": "markdown",
   "metadata": {},
   "source": [
    "## Fit Counterfactual Distribution"
   ]
  },
  {
   "cell_type": "code",
   "execution_count": 11,
   "metadata": {},
   "outputs": [],
   "source": [
    "Yt = np.linspace(-2,2,200)\n",
    "Yt = Yt[:,np.newaxis]\n",
    "YY0 = Y0[:,np.newaxis] # Y\n",
    "\n",
    "sg = np.median(pairwise_distances(YY0,Yt,metric='euclidean'))**2"
   ]
  },
  {
   "cell_type": "code",
   "execution_count": 12,
   "metadata": {},
   "outputs": [],
   "source": [
    "def obj_fun(x):\n",
    "    \"\"\" x[0]: mean of the Gaussian, x[1]: variance of the Gaussian \"\"\"\n",
    "    \n",
    "    gm = 1.0/sg\n",
    "    Yd = (YY0 - x[0])**2\n",
    "    \n",
    "    first_term  = np.dot(np.dot(b.T,gauss_rbf(YY0,YY0,sg)),b)\n",
    "    second_term = np.dot(b.T,np.exp(-0.5*(x[1]**2 + sg)*Yd)/np.sqrt(abs(gm*(x[1]**2) + 1)))\n",
    "    third_term  = 1.0/np.sqrt(2*(x[1]**2) + 1)\n",
    "    \n",
    "    return first_term - 2*second_term + third_term\n"
   ]
  },
  {
   "cell_type": "code",
   "execution_count": 13,
   "metadata": {},
   "outputs": [
    {
     "name": "stdout",
     "output_type": "stream",
     "text": [
      "Optimization terminated successfully.\n",
      "         Current function value: 0.482297\n",
      "         Iterations: 10\n",
      "         Function evaluations: 72\n",
      "         Gradient evaluations: 18\n",
      "0.46804674261336443 0.3945774699820924 True\n"
     ]
    }
   ],
   "source": [
    "x0 = [0.0,0.01]\n",
    "res = minimize(obj_fun, x0, method='BFGS', options={'gtol': 1e-6, 'disp': True})\n",
    "mm = res.x[0]\n",
    "ss = res.x[1]\n",
    "print(mm,ss,res.success)"
   ]
  },
  {
   "cell_type": "markdown",
   "metadata": {},
   "source": [
    "## Plot Counterfactual Distribution"
   ]
  },
  {
   "cell_type": "code",
   "execution_count": 14,
   "metadata": {},
   "outputs": [
    {
     "name": "stderr",
     "output_type": "stream",
     "text": [
      "/usr/local/lib/python3.6/site-packages/matplotlib/axes/_axes.py:6462: UserWarning: The 'normed' kwarg is deprecated, and has been replaced by the 'density' kwarg.\n",
      "  warnings.warn(\"The 'normed' kwarg is deprecated, and has been \"\n",
      "/usr/local/lib/python3.6/site-packages/ipykernel_launcher.py:4: MatplotlibDeprecationWarning: scipy.stats.norm.pdf\n",
      "  after removing the cwd from sys.path.\n",
      "/usr/local/lib/python3.6/site-packages/ipykernel_launcher.py:7: MatplotlibDeprecationWarning: scipy.stats.norm.pdf\n",
      "  import sys\n",
      "/usr/local/lib/python3.6/site-packages/matplotlib/font_manager.py:1328: UserWarning: findfont: Font family ['serif'] not found. Falling back to DejaVu Sans\n",
      "  (prop.get_family(), self.defaultFamily[fontext]))\n",
      "/usr/local/lib/python3.6/site-packages/matplotlib/font_manager.py:1328: UserWarning: findfont: Font family ['serif'] not found. Falling back to DejaVu Sans\n",
      "  (prop.get_family(), self.defaultFamily[fontext]))\n",
      "/usr/local/lib/python3.6/site-packages/matplotlib/font_manager.py:1328: UserWarning: findfont: Font family ['serif'] not found. Falling back to DejaVu Sans\n",
      "  (prop.get_family(), self.defaultFamily[fontext]))\n"
     ]
    },
    {
     "data": {
      "image/png": "[encoded data removed]",
      "text/plain": [
       "<Figure size 432x288 with 1 Axes>"
      ]
     },
     "metadata": {},
     "output_type": "display_data"
    }
   ],
   "source": [
    "# plot the histograms\n",
    "fig, ax = plt.subplots(1,1)\n",
    "n, bins, patches = ax.hist(Y0,30,normed=1,facecolor='green', alpha=0.6, label=\"$Y^*_0$\")\n",
    "y0 = mlab.normpdf(bins, 0, 1)\n",
    "\n",
    "n, bins, patches = ax.hist(Y1,30,normed=1,facecolor='blue', alpha=0.6, label=\"$Y^*_1$\")\n",
    "y1 = mlab.normpdf(bins, 2, 1)\n",
    "ax.plot(Yt, norm.pdf(Yt,loc=mm,scale=ss**2),'r--',linewidth=4,label=\"$Y^*_1|T=0$\");\n",
    "\n",
    "ax.legend()\n",
    "ax.set_title(\"Potential and Counterfactual Distributions\")\n",
    "ax.set_xlabel(\"$Y$\")\n",
    "ax.set_ylabel(\"$P(Y)$\")\n",
    "ax.grid(True)\n",
    "\n",
    "fig.tight_layout();"
   ]
  },
  {
   "cell_type": "code",
   "execution_count": 15,
   "metadata": {},
   "outputs": [],
   "source": [
    "# save the figure\n",
    "fig.savefig('cf_distributions.pdf', dpi=100)"
   ]
  },
  {
   "cell_type": "code",
   "execution_count": null,
   "metadata": {},
   "outputs": [],
   "source": [
    "# Kernel herding (Algorithm 1)"
   ]
  },
  {
   "cell_type": "code",
   "execution_count": null,
   "metadata": {},
   "outputs": [],
   "source": []
  }
 ],
 "metadata": {
  "kernelspec": {
   "display_name": "Python 3",
   "language": "python",
   "name": "python3"
  },
  "language_info": {
   "codemirror_mode": {
    "name": "ipython",
    "version": 3
   },
   "file_extension": ".py",
   "mimetype": "text/x-python",
   "name": "python",
   "nbconvert_exporter": "python",
   "pygments_lexer": "ipython3",
   "version": "3.8.3"
  }
 },
 "nbformat": 4,
 "nbformat_minor": 2
}
