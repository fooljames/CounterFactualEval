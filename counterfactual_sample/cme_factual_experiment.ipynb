{
 "cells": [
  {
   "cell_type": "code",
   "execution_count": 1,
   "metadata": {},
   "outputs": [],
   "source": [
    "import numpy as np\n",
    "import scipy\n",
    "import matplotlib.pyplot as plt\n",
    "import matplotlib.mlab   as mlab\n",
    "\n",
    "from matplotlib import rc\n",
    "from kernel_two_sample_test import kernel_two_sample_test\n",
    "from kernel_two_sample_test_nonuniform import kernel_two_sample_test_nonuniform\n",
    "from sklearn.metrics import pairwise_distances\n",
    "\n",
    "from scipy.spatial.distance import cdist\n",
    "from scipy.special import expit\n",
    "from scipy.stats import bernoulli\n",
    "from numpy.polynomial.polynomial import polyval\n",
    "\n",
    "rc('font', **{'family': 'serif', 'serif': ['Modern Computer']})\n",
    "rc('text', usetex=True)\n",
    "\n",
    "%matplotlib inline"
   ]
  },
  {
   "cell_type": "code",
   "execution_count": null,
   "metadata": {},
   "outputs": [],
   "source": [
    "# generate data from the marginal distributions P(X_0) and P(X_1)\n",
    "ns = 500\n",
    "d  = 5\n",
    "X  = np.random.randn(ns,d)"
   ]
  },
  {
   "cell_type": "code",
   "execution_count": null,
   "metadata": {},
   "outputs": [],
   "source": [
    "# generate Y_0 and Y_1 from the conditional models\n",
    "beta_vec  = np.array([0.1,0.2,0.3,0.4,0.5])\n",
    "alpha_vec = np.array([0.5,0.4,0.3,0.2,0.1])\n",
    "alpha_0   = 0.05"
   ]
  },
  {
   "cell_type": "markdown",
   "metadata": {},
   "source": [
    "## Scenario I"
   ]
  },
  {
   "cell_type": "code",
   "execution_count": null,
   "metadata": {},
   "outputs": [],
   "source": [
    "b = 0\n",
    "\n",
    "Prob_vec = expit(np.dot(alpha_vec,X.T) + alpha_0)\n",
    "\n",
    "T  = bernoulli.rvs(Prob_vec)\n",
    "Y0 = np.dot(beta_vec,X[T==0,:].T) + 0.1*np.random.randn(X[T==0,:].shape[0])\n",
    "Y1 = np.dot(beta_vec,X[T==1,:].T) + b + 0.1*np.random.randn(X[T==1,:].shape[0])"
   ]
  },
  {
   "cell_type": "code",
   "execution_count": null,
   "metadata": {},
   "outputs": [],
   "source": [
    "# plot the true functions and the samples\n",
    "fig, ax = plt.subplots(1,1)\n",
    "\n",
    "ax.plot(Y0,linewidth=1,linestyle=\"None\",marker='o',color='red',label=\"Y_0\")\n",
    "ax.plot(Y1,linewidth=1,linestyle=\"None\",marker='x',color='blue',label=\"Y_1\")\n",
    "ax.legend([\"$Y_0$\",\"$Y_1$\"])\n",
    "ax.set_title(\"Scenario I\", fontsize=16)\n",
    "ax.set_ylabel(\"Y\", fontsize=16)\n",
    "\n",
    "fig.tight_layout()"
   ]
  },
  {
   "cell_type": "code",
   "execution_count": null,
   "metadata": {},
   "outputs": [],
   "source": [
    "# save the figure\n",
    "fig.savefig('data_scenario_1.eps',dpi=100)"
   ]
  },
  {
   "cell_type": "code",
   "execution_count": null,
   "metadata": {},
   "outputs": [],
   "source": [
    "# plot the histograms\n",
    "fig, ax = plt.subplots(1,1)\n",
    "n, bins, patches = ax.hist(Y0,30,facecolor='green',weights=Prob_vec[T==0],density=True,alpha=0.6,label=\"$Y_0$\")\n",
    "#y0 = mlab.normpdf(bins, 0, 1)\n",
    "y0 = scipy.stats.norm.pdf(bins, 0, 1) \n",
    "#l = plt.plot(bins, y0, 'r--', linewidth=3,label='Y0')\n",
    "\n",
    "n, bins, patches = ax.hist(Y1,30,facecolor='blue',weights=Prob_vec[T==1],density=True,alpha=0.6,label=\"$Y_1$\")\n",
    "#y1 = mlab.normpdf(bins, 0, 1)\n",
    "y1 = scipy.stats.norm.pdf(bins, 0, 1) \n",
    "#l = plt.plot(bins, y1, 'm--', linewidth=3,label='Y1')\n",
    "\n",
    "ax.legend()\n",
    "ax.set_title('Scenario I', fontsize=16)\n",
    "ax.set_ylabel('P(Y)', fontsize=16)\n",
    "ax.set_xlabel('Y', fontsize=16)\n",
    "\n",
    "fig.tight_layout()"
   ]
  },
  {
   "cell_type": "code",
   "execution_count": null,
   "metadata": {},
   "outputs": [],
   "source": [
    "# save the figure\n",
    "fig.savefig('data_hist_scenario_1.pdf',dpi=100)"
   ]
  },
  {
   "cell_type": "markdown",
   "metadata": {},
   "source": [
    "## Perform Two-sample Testing"
   ]
  },
  {
   "cell_type": "code",
   "execution_count": null,
   "metadata": {},
   "outputs": [],
   "source": [
    "YY0 = Y0[:,np.newaxis]\n",
    "YY1 = Y1[:,np.newaxis]\n",
    "\n",
    "# Gaussian RBF kernel\n",
    "sigma2 = np.median(pairwise_distances(YY0, YY1, metric='euclidean'))**2\n",
    "mmd2u_rbf, mmd2u_null_rbf, p_value_rbf = kernel_two_sample_test_nonuniform(YY0, YY1, Prob_vec,\n",
    "                                                    kernel_function='rbf',\n",
    "                                                    gamma=1.0/sigma2,\n",
    "                                                    verbose=True)\n",
    "\n",
    "# Linear kernel\n",
    "mmd2u_lin, mmd2u_null_lin, p_value_lin = kernel_two_sample_test_nonuniform(YY0, YY1, Prob_vec,\n",
    "                                                    kernel_function='linear',\n",
    "                                                    verbose=True)"
   ]
  },
  {
   "cell_type": "code",
   "execution_count": null,
   "metadata": {},
   "outputs": [],
   "source": [
    "fig, ax = plt.subplots(1,2,figsize=(12,4))\n",
    "\n",
    "prob, bins, patches = ax[0].hist(mmd2u_null_rbf, bins=50)\n",
    "ax[0].plot(mmd2u_rbf, prob.max()/30, 'w*', markersize=24, markeredgecolor='k',\n",
    "         markeredgewidth=2, label=\"$MMD^2_u = %s$\" % mmd2u_rbf)\n",
    "ax[0].set_xlabel('$MMD^2_u$')\n",
    "ax[0].set_ylabel('$p(MMD^2_u)$')\n",
    "ax[0].legend(numpoints=1)\n",
    "ax[0].set_title('$MMD^2_u$: null-distribution and observed value. $p$-value=%s'\n",
    "        % p_value_rbf)\n",
    "\n",
    "#\n",
    "prob, bins, patches = ax[1].hist(mmd2u_null_lin, bins=50)\n",
    "ax[1].plot(mmd2u_lin, prob.max()/30, 'w*', markersize=24, markeredgecolor='k',\n",
    "         markeredgewidth=2, label=\"$MMD^2_u = %s$\" % mmd2u_lin)\n",
    "ax[1].set_xlabel('$MMD^2_u$')\n",
    "ax[1].set_ylabel('$p(MMD^2_u)$')\n",
    "ax[1].legend(numpoints=1)\n",
    "ax[1].set_title('$MMD^2_u$: null-distribution and observed value. $p$-value=%s'\n",
    "        % p_value_lin)\n",
    "\n",
    "fig.tight_layout()"
   ]
  },
  {
   "cell_type": "markdown",
   "metadata": {},
   "source": [
    "## Scenario II"
   ]
  },
  {
   "cell_type": "code",
   "execution_count": null,
   "metadata": {},
   "outputs": [],
   "source": [
    "b = 2\n",
    "\n",
    "Prob_vec = expit(np.dot(alpha_vec,X.T) + alpha_0)\n",
    "\n",
    "T  = bernoulli.rvs(Prob_vec)\n",
    "Y0 = np.dot(beta_vec,X[T==0,:].T) + 0.1*np.random.randn(X[T==0,:].shape[0])\n",
    "Y1 = np.dot(beta_vec,X[T==1,:].T) + b + 0.1*np.random.randn(X[T==1,:].shape[0])"
   ]
  },
  {
   "cell_type": "code",
   "execution_count": null,
   "metadata": {},
   "outputs": [],
   "source": [
    "# plot the true functions and the samples\n",
    "fig,ax = plt.subplots(1,1)\n",
    "\n",
    "ax.plot(Y0,linewidth=1,color='red',label=\"Y_0\")\n",
    "ax.plot(Y1,linewidth=1,color='blue',label=\"Y_1\")\n",
    "ax.legend([\"$Y_0$\",\"$Y_1$\"])\n",
    "ax.set_title(\"Scenario II\")\n",
    "ax.set_ylabel(\"Y\")\n",
    "\n",
    "fig.tight_layout()"
   ]
  },
  {
   "cell_type": "code",
   "execution_count": null,
   "metadata": {},
   "outputs": [],
   "source": [
    "# save the figure\n",
    "fig.savefig('data_scenario_2.eps',dpi=100)"
   ]
  },
  {
   "cell_type": "code",
   "execution_count": null,
   "metadata": {},
   "outputs": [],
   "source": [
    "# plot the histograms\n",
    "fig, ax = plt.subplots(1,1)\n",
    "n, bins, patches = ax.hist(Y0,30,facecolor='green',weights=Prob_vec[T==0],density=True,alpha=0.6,label=\"$Y_0$\")\n",
    "#y0 = mlab.normpdf(bins, 0, 1)\n",
    "y0 = scipy.stats.norm.pdf(bins, 0, 1)\n",
    "#l = plt.plot(bins, y0, 'r--', linewidth=3,label='Y0')\n",
    "\n",
    "n, bins, patches = ax.hist(Y1,30,facecolor='blue',weights=Prob_vec[T==1],density=True,alpha=0.6,label=\"$Y_1$\")\n",
    "#y1 = mlab.normpdf(bins, 2, 1)\n",
    "y1 = scipy.stats.norm.pdf(bins, 2, 1) \n",
    "#l = plt.plot(bins, y1, 'm--', linewidth=3,label='Y1')\n",
    "\n",
    "ax.legend()\n",
    "ax.set_title('Scenario II', fontsize=16)\n",
    "ax.set_ylabel('P(Y)', fontsize=16)\n",
    "ax.set_xlabel('Y', fontsize=16)\n",
    "\n",
    "fig.tight_layout()"
   ]
  },
  {
   "cell_type": "code",
   "execution_count": null,
   "metadata": {},
   "outputs": [],
   "source": [
    "# save the figure\n",
    "fig.savefig('data_hist_scenario_2.pdf',dpi=100)"
   ]
  },
  {
   "cell_type": "markdown",
   "metadata": {},
   "source": [
    "## Perform Two-sample Testing"
   ]
  },
  {
   "cell_type": "code",
   "execution_count": null,
   "metadata": {},
   "outputs": [],
   "source": [
    "YY0 = Y0[:,np.newaxis]\n",
    "YY1 = Y1[:,np.newaxis]\n",
    "\n",
    "sigma2 = np.median(pairwise_distances(YY0, YY1, metric='euclidean'))**2\n",
    "mmd2u_rbf, mmd2u_null_rbf, p_value_rbf = kernel_two_sample_test(YY0, YY1,\n",
    "                                                    kernel_function='rbf',\n",
    "                                                    gamma=1.0/sigma2,\n",
    "                                                    verbose=True)\n",
    "    \n",
    "mmd2u_lin, mmd2u_null_lin, p_value_lin = kernel_two_sample_test(YY0, YY1,\n",
    "                                                    kernel_function='linear',\n",
    "                                                    verbose=True)"
   ]
  },
  {
   "cell_type": "code",
   "execution_count": null,
   "metadata": {},
   "outputs": [],
   "source": [
    "fig, ax = plt.subplots(1,2,figsize=(12,4))\n",
    "\n",
    "prob, bins, patches = ax[0].hist(mmd2u_null_rbf, bins=50, density=True)\n",
    "ax[0].plot(mmd2u_rbf, prob.max()/30, 'w*', markersize=24, markeredgecolor='k',\n",
    "         markeredgewidth=2, label=\"$MMD^2_u = %s$\" % mmd2u_rbf)\n",
    "ax[0].set_xlabel('$MMD^2_u$')\n",
    "ax[0].set_ylabel('$p(MMD^2_u)$')\n",
    "ax[0].legend(numpoints=1)\n",
    "ax[0].set_title('$MMD^2_u$: null-distribution and observed value. $p$-value=%s'\n",
    "        % p_value_rbf)\n",
    "\n",
    "#\n",
    "prob, bins, patches = ax[1].hist(mmd2u_null_lin, bins=50, density=True)\n",
    "ax[1].plot(mmd2u_lin, prob.max()/30, 'w*', markersize=24, markeredgecolor='k',\n",
    "         markeredgewidth=2, label=\"$MMD^2_u = %s$\" % mmd2u_lin)\n",
    "ax[1].set_xlabel('$MMD^2_u$')\n",
    "ax[1].set_ylabel('$p(MMD^2_u)$')\n",
    "ax[1].legend(numpoints=1)\n",
    "ax[1].set_title('$MMD^2_u$: null-distribution and observed value. $p$-value=%s'\n",
    "        % p_value_lin)\n",
    "\n",
    "fig.tight_layout()"
   ]
  },
  {
   "cell_type": "markdown",
   "metadata": {},
   "source": [
    "## Scenario III"
   ]
  },
  {
   "cell_type": "code",
   "execution_count": null,
   "metadata": {},
   "outputs": [],
   "source": [
    "b = 2\n",
    "\n",
    "Prob_vec = expit(np.dot(alpha_vec,X.T) + alpha_0)\n",
    "\n",
    "T  = bernoulli.rvs(Prob_vec)\n",
    "Z  = bernoulli.rvs(0.5,size=len(T[T==1]))\n",
    "\n",
    "Y0 = np.dot(beta_vec,X[T==0,:].T) + 0.1*np.random.randn(X[T==0,:].shape[0])\n",
    "Y1 = np.dot(beta_vec,X[T==1,:].T) + (2*Z - 1) + 0.1*np.random.randn(X[T==1,:].shape[0])"
   ]
  },
  {
   "cell_type": "code",
   "execution_count": null,
   "metadata": {},
   "outputs": [],
   "source": [
    "# plot the true functions and the samples\n",
    "fig,ax = plt.subplots(1,1)\n",
    "\n",
    "ax.plot(Y0,linewidth=1,color='red',label=\"Y_0\")\n",
    "ax.plot(Y1,linewidth=1,color='blue',label=\"Y_1\")\n",
    "ax.legend([\"$Y_0$\",\"$Y_1$\"])\n",
    "ax.set_title(\"Scenario III\")\n",
    "ax.set_ylabel(\"Y\")\n",
    "\n",
    "fig.tight_layout()"
   ]
  },
  {
   "cell_type": "code",
   "execution_count": null,
   "metadata": {},
   "outputs": [],
   "source": [
    "# save the figure\n",
    "fig.savefig('data_scenario_3.eps',dpi=100)"
   ]
  },
  {
   "cell_type": "code",
   "execution_count": null,
   "metadata": {},
   "outputs": [],
   "source": [
    "# plot the histograms\n",
    "fig, ax = plt.subplots(1,1)\n",
    "n, bins, patches = ax.hist(Y0,30,density=True,weights=Prob_vec[T==0],facecolor='green', alpha=0.6, label=\"$Y_0$\")\n",
    "#y0 = mlab.normpdf(bins, 0, 1)\n",
    "y0 = scipy.stats.norm.pdf(bins, 0, 1)\n",
    "#l = plt.plot(bins, y0, 'r--', linewidth=2,label='Y0')\n",
    "\n",
    "n, bins, patches = ax.hist(Y1,30,density=True,weights=Prob_vec[T==1],facecolor='blue',alpha=0.6,label=\"$Y_1$\")\n",
    "#y1 = mlab.normpdf(bins, 2, 1)\n",
    "y1 = scipy.stats.norm.pdf(bins, 2, 1)\n",
    "#l = plt.plot(bins, y1, 'm--', linewidth=2,label='Y1')\n",
    "\n",
    "ax.legend()\n",
    "ax.set_title('Scenario III', fontsize=16)\n",
    "ax.set_ylabel('P(Y)', fontsize=16)\n",
    "ax.set_xlabel('Y', fontsize=16)\n",
    "\n",
    "fig.tight_layout()"
   ]
  },
  {
   "cell_type": "code",
   "execution_count": null,
   "metadata": {},
   "outputs": [],
   "source": [
    "# save the figure\n",
    "fig.savefig('data_hist_scenario_3.pdf',dpi=100)"
   ]
  },
  {
   "cell_type": "markdown",
   "metadata": {},
   "source": [
    "## Perform Two-sample Testing"
   ]
  },
  {
   "cell_type": "code",
   "execution_count": null,
   "metadata": {},
   "outputs": [],
   "source": [
    "YY0 = Y0[:,np.newaxis]\n",
    "YY1 = Y1[:,np.newaxis]\n",
    "\n",
    "sigma2 = np.median(pairwise_distances(YY0, YY1, metric='euclidean'))**2\n",
    "mmd2u_rbf, mmd2u_null_rbf, p_value_rbf = kernel_two_sample_test(YY0, YY1,\n",
    "                                                    kernel_function='rbf',\n",
    "                                                    gamma=1.0/sigma2,\n",
    "                                                    verbose=True)\n",
    "    \n",
    "mmd2u_lin, mmd2u_null_lin, p_value_lin = kernel_two_sample_test(YY0, YY1,\n",
    "                                                    kernel_function='linear',\n",
    "                                                    verbose=True)"
   ]
  },
  {
   "cell_type": "code",
   "execution_count": null,
   "metadata": {},
   "outputs": [],
   "source": [
    "fig, ax = plt.subplots(1,2,figsize=(12,4))\n",
    "\n",
    "prob, bins, patches = ax[0].hist(mmd2u_null_rbf, bins=50, density=True)\n",
    "ax[0].plot(mmd2u_rbf, prob.max()/30, 'w*', markersize=24, markeredgecolor='k',\n",
    "         markeredgewidth=2, label=\"$MMD^2_u = %s$\" % mmd2u_rbf)\n",
    "ax[0].set_xlabel('$MMD^2_u$')\n",
    "ax[0].set_ylabel('$p(MMD^2_u)$')\n",
    "ax[0].legend(numpoints=1)\n",
    "ax[0].set_title('$MMD^2_u$: null-distribution and observed value. $p$-value=%s'\n",
    "        % p_value_rbf)\n",
    "\n",
    "prob, bins, patches = ax[1].hist(mmd2u_null_lin, bins=50, density=True)\n",
    "ax[1].plot(mmd2u_lin, prob.max()/30, 'w*', markersize=24, markeredgecolor='k',\n",
    "         markeredgewidth=2, label=\"$MMD^2_u = %s$\" % mmd2u_lin)\n",
    "ax[1].set_xlabel('$MMD^2_u$')\n",
    "ax[1].set_ylabel('$p(MMD^2_u)$')\n",
    "ax[1].legend(numpoints=1)\n",
    "ax[1].set_title('$MMD^2_u$: null-distribution and observed value. $p$-value=%s'\n",
    "        % p_value_lin)\n",
    "\n",
    "fig.tight_layout()"
   ]
  },
  {
   "cell_type": "markdown",
   "metadata": {},
   "source": [
    "# Multiple Experiments\n",
    "\n",
    "We repeat the experiments above."
   ]
  },
  {
   "cell_type": "code",
   "execution_count": 2,
   "metadata": {},
   "outputs": [],
   "source": [
    "num_experiments = 1000\n",
    "\n",
    "# generate data from the marginal distributions P(X_0) and P(X_1)\n",
    "ns = 50\n",
    "d  = 5\n",
    "noise_var = 0.1\n",
    "\n",
    "# generate Y_0 and Y_1 from the conditional models\n",
    "beta_vec  = np.array([0.1,0.2,0.3,0.4,0.5])\n",
    "alpha_vec = np.array([0.05,0.04,0.03,0.02,0.01])\n",
    "alpha_0   = 0.05\n",
    "\n",
    "significance_level = 0.01"
   ]
  },
  {
   "cell_type": "markdown",
   "metadata": {},
   "source": [
    "### Scenario I"
   ]
  },
  {
   "cell_type": "code",
   "execution_count": 3,
   "metadata": {},
   "outputs": [],
   "source": [
    "b = 0\n",
    "lin_num_rejects = 0\n",
    "rbf_num_rejects = 0\n",
    "for n in range(num_experiments):\n",
    "    \n",
    "    ### generate data \n",
    "    X  = np.random.randn(ns,d)\n",
    "\n",
    "    Prob_vec = expit(np.dot(alpha_vec,X.T) + alpha_0)\n",
    "    \n",
    "    T  = bernoulli.rvs(Prob_vec)\n",
    "    Y0 = np.dot(beta_vec,X[T==0,:].T) + noise_var*np.random.randn(X[T==0,:].shape[0])\n",
    "    Y1 = np.dot(beta_vec,X[T==1,:].T) + b + noise_var*np.random.randn(X[T==1,:].shape[0])\n",
    "    \n",
    "    ### calculate the test statistics and p-value\n",
    "    YY0 = Y0[:,np.newaxis]\n",
    "    YY1 = Y1[:,np.newaxis]\n",
    "\n",
    "    # Gaussian RBF kernel\n",
    "    sigma2 = np.median(pairwise_distances(YY0, YY1, metric='euclidean'))**2\n",
    "    mmd2u_rbf, mmd2u_null_rbf, p_value_rbf = kernel_two_sample_test_nonuniform(YY0, YY1, Prob_vec,\n",
    "                                                        kernel_function='rbf',\n",
    "                                                        gamma=1.0/sigma2,\n",
    "                                                        verbose=False)\n",
    "    \n",
    "    rbf_num_rejects += int(p_value_rbf < significance_level)\n",
    "    \n",
    "    # linear kernel\n",
    "    mmd2u_lin, mmd2u_null_lin, p_value_lin = kernel_two_sample_test_nonuniform(YY0, YY1, Prob_vec,\n",
    "                                                        kernel_function='linear',\n",
    "                                                        verbose=False)\n",
    "    \n",
    "    lin_num_rejects += int(p_value_lin < significance_level)\n",
    "    "
   ]
  },
  {
   "cell_type": "code",
   "execution_count": 4,
   "metadata": {},
   "outputs": [
    {
     "name": "stdout",
     "output_type": "stream",
     "text": [
      "0.013000 0.012000\n"
     ]
    }
   ],
   "source": [
    "print('%5f %5f' % (lin_num_rejects/num_experiments,rbf_num_rejects/num_experiments))"
   ]
  },
  {
   "cell_type": "markdown",
   "metadata": {},
   "source": [
    "### Scenario II"
   ]
  },
  {
   "cell_type": "code",
   "execution_count": 5,
   "metadata": {},
   "outputs": [],
   "source": [
    "b = 2\n",
    "\n",
    "lin_num_rejects = 0\n",
    "rbf_num_rejects = 0\n",
    "\n",
    "for n in range(num_experiments):\n",
    "    \n",
    "    ### generate data \n",
    "    X  = np.random.randn(ns,d)\n",
    "    Prob_vec = expit(np.dot(alpha_vec,X.T) + alpha_0)\n",
    "\n",
    "    T  = bernoulli.rvs(Prob_vec)\n",
    "    Y0 = np.dot(beta_vec,X[T==0,:].T) + noise_var*np.random.randn(X[T==0,:].shape[0])\n",
    "    Y1 = np.dot(beta_vec,X[T==1,:].T) + b + noise_var*np.random.randn(X[T==1,:].shape[0])\n",
    "    \n",
    "    ### calculate the test statistics and p-value\n",
    "    YY0 = Y0[:,np.newaxis]\n",
    "    YY1 = Y1[:,np.newaxis]\n",
    "\n",
    "    # Gaussian RBF kernel\n",
    "    sigma2 = np.median(pairwise_distances(YY0, YY1, metric='euclidean'))**2\n",
    "    mmd2u_rbf, mmd2u_null_rbf, p_value_rbf = kernel_two_sample_test_nonuniform(YY0, YY1, Prob_vec,\n",
    "                                                        kernel_function='rbf',\n",
    "                                                        gamma=1.0/sigma2,\n",
    "                                                        verbose=False)\n",
    "    \n",
    "    rbf_num_rejects += int(p_value_rbf < significance_level)\n",
    "    \n",
    "    # linear kernel\n",
    "    mmd2u_lin, mmd2u_null_lin, p_value_lin = kernel_two_sample_test_nonuniform(YY0, YY1, Prob_vec,\n",
    "                                                        kernel_function='linear',\n",
    "                                                        verbose=False)\n",
    "    \n",
    "    lin_num_rejects += int(p_value_lin < significance_level)\n",
    "    "
   ]
  },
  {
   "cell_type": "code",
   "execution_count": 6,
   "metadata": {},
   "outputs": [
    {
     "name": "stdout",
     "output_type": "stream",
     "text": [
      "1.000000 1.000000\n"
     ]
    }
   ],
   "source": [
    "print('%5f %5f' % (lin_num_rejects/num_experiments,rbf_num_rejects/num_experiments))"
   ]
  },
  {
   "cell_type": "markdown",
   "metadata": {},
   "source": [
    "### Scenario III"
   ]
  },
  {
   "cell_type": "code",
   "execution_count": 7,
   "metadata": {},
   "outputs": [],
   "source": [
    "b = 2\n",
    "\n",
    "lin_num_rejects = 0\n",
    "rbf_num_rejects = 0\n",
    "\n",
    "for n in range(num_experiments):\n",
    "    \n",
    "    ### generate data \n",
    "    X  = np.random.randn(ns,d)\n",
    "    Prob_vec = expit(np.dot(alpha_vec,X.T) + alpha_0)\n",
    "\n",
    "    T  = bernoulli.rvs(Prob_vec)\n",
    "    Z  = bernoulli.rvs(0.5,size=len(T[T==1]))\n",
    "\n",
    "    Y0 = np.dot(beta_vec,X[T==0,:].T) + noise_var*np.random.randn(X[T==0,:].shape[0])\n",
    "    Y1 = np.dot(beta_vec,X[T==1,:].T) + (2*Z - 1) + noise_var*np.random.randn(X[T==1,:].shape[0])\n",
    "    \n",
    "    ### calculate the test statistics and p-value\n",
    "    YY0 = Y0[:,np.newaxis]\n",
    "    YY1 = Y1[:,np.newaxis]\n",
    "\n",
    "    # Gaussian RBF kernel\n",
    "    sigma2 = np.median(pairwise_distances(YY0, YY1, metric='euclidean'))**2\n",
    "    mmd2u_rbf, mmd2u_null_rbf, p_value_rbf = kernel_two_sample_test_nonuniform(YY0, YY1, Prob_vec,\n",
    "                                                        kernel_function='rbf',\n",
    "                                                        gamma=1.0/sigma2,\n",
    "                                                        verbose=False)\n",
    "    \n",
    "    rbf_num_rejects += int(p_value_rbf < significance_level)\n",
    "    \n",
    "    # linear kernel\n",
    "    mmd2u_lin, mmd2u_null_lin, p_value_lin = kernel_two_sample_test_nonuniform(YY0, YY1, Prob_vec,\n",
    "                                                        kernel_function='linear',\n",
    "                                                        verbose=False)\n",
    "    \n",
    "    lin_num_rejects += int(p_value_lin < significance_level)\n",
    "    "
   ]
  },
  {
   "cell_type": "code",
   "execution_count": 8,
   "metadata": {},
   "outputs": [
    {
     "name": "stdout",
     "output_type": "stream",
     "text": [
      "0.012000 0.224000\n"
     ]
    }
   ],
   "source": [
    "print('%5f %5f' % (lin_num_rejects/num_experiments,rbf_num_rejects/num_experiments))"
   ]
  },
  {
   "cell_type": "code",
   "execution_count": null,
   "metadata": {},
   "outputs": [],
   "source": []
  },
  {
   "cell_type": "code",
   "execution_count": null,
   "metadata": {},
   "outputs": [],
   "source": []
  },
  {
   "cell_type": "code",
   "execution_count": null,
   "metadata": {},
   "outputs": [],
   "source": []
  }
 ],
 "metadata": {
  "kernelspec": {
   "display_name": "Python 3",
   "language": "python",
   "name": "python3"
  },
  "language_info": {
   "codemirror_mode": {
    "name": "ipython",
    "version": 3
   },
   "file_extension": ".py",
   "mimetype": "text/x-python",
   "name": "python",
   "nbconvert_exporter": "python",
   "pygments_lexer": "ipython3",
   "version": "3.6.5"
  }
 },
 "nbformat": 4,
 "nbformat_minor": 2
}
